{
  "nbformat": 4,
  "nbformat_minor": 0,
  "metadata": {
    "colab": {
      "provenance": [],
      "authorship_tag": "ABX9TyPSy5KaY8LeMhuHM8yypYFa",
      "include_colab_link": true
    },
    "kernelspec": {
      "name": "python3",
      "display_name": "Python 3"
    },
    "language_info": {
      "name": "python"
    }
  },
  "cells": [
    {
      "cell_type": "markdown",
      "metadata": {
        "id": "view-in-github",
        "colab_type": "text"
      },
      "source": [
        "<a href=\"https://colab.research.google.com/github/chrisseub/Arewa-Data-Science-Project/blob/main/CROP_YIELD.ipynb\" target=\"_parent\"><img src=\"https://colab.research.google.com/assets/colab-badge.svg\" alt=\"Open In Colab\"/></a>"
      ]
    },
    {
      "cell_type": "markdown",
      "source": [
        "# PREDICTING CROP YIELD BASED ON VARIOUS INPUTS (SUCH AS SOIL, RAINFALL, TEMPERATURE AND SO ON)"
      ],
      "metadata": {
        "id": "1hXUtHqkYOyd"
      }
    },
    {
      "cell_type": "markdown",
      "source": [
        "IMPORTING THE LIBRARIES"
      ],
      "metadata": {
        "id": "-RrRWVXoVWvl"
      }
    },
    {
      "cell_type": "code",
      "execution_count": 1,
      "metadata": {
        "id": "BEcdH0N9VTEB"
      },
      "outputs": [],
      "source": [
        "import pandas as pd\n",
        "from sklearn.model_selection import train_test_split\n",
        "from sklearn.linear_model import LinearRegression\n",
        "from sklearn.metrics import mean_squared_error, r2_score\n",
        "import matplotlib.pyplot as plt"
      ]
    },
    {
      "cell_type": "code",
      "source": [
        "import requests\n",
        "\n",
        "Api_key = '6e6f9659fef62e5c5d1103979100d281'\n",
        "base_url = 'http://api.openweathermap.org/data/2.5/weather'\n",
        "\n",
        "city = input('Enter a city/state name: ')\n",
        "\n",
        "request_url = f\"{base_url}?appid={Api_key}&q={city}\"\n",
        "response = requests.get(request_url)\n",
        "\n",
        "if response.status_code==200:\n",
        "\n",
        "    data = response.json()\n",
        "    weather = data['weather'][0]['description']\n",
        "    temperature = round(data['main']['temp']- 273.15,2 ) # for celsius\n",
        "\n",
        "    print('Weather: ', weather)\n",
        "    print('Temperature: ', temperature)\n",
        "else:\n",
        "    print(\"An error occured... \")\n",
        "\n",
        "\n",
        "\n",
        "\n"
      ],
      "metadata": {
        "colab": {
          "base_uri": "https://localhost:8080/"
        },
        "id": "REo9YtPGVkqU",
        "outputId": "62c26fe5-f81e-4eb2-bb7a-51c217fd2cc2"
      },
      "execution_count": 2,
      "outputs": [
        {
          "output_type": "stream",
          "name": "stdout",
          "text": [
            "Enter a city/state name: Kansas\n",
            "Weather:  broken clouds\n",
            "Temperature:  -8.19\n"
          ]
        }
      ]
    },
    {
      "cell_type": "code",
      "source": [
        "wind_speed = data['wind']['speed']\n",
        "humidity = data['main']['humidity']\n",
        "\n",
        "print(f\"Weather in {city}:\")\n",
        "print(f\"Wind Speed: {wind_speed} m/s\")\n",
        "print(f\"Humidity: {humidity}%\")"
      ],
      "metadata": {
        "colab": {
          "base_uri": "https://localhost:8080/"
        },
        "id": "dyGjNo6Tl80W",
        "outputId": "13b48894-9428-4591-afee-b5ebde43528e"
      },
      "execution_count": 4,
      "outputs": [
        {
          "output_type": "stream",
          "name": "stdout",
          "text": [
            "Weather in Kansas:\n",
            "Wind Speed: 4.24 m/s\n",
            "Humidity: 84%\n"
          ]
        }
      ]
    }
  ]
}